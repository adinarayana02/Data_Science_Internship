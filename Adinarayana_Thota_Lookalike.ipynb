{
  "nbformat": 4,
  "nbformat_minor": 0,
  "metadata": {
    "colab": {
      "provenance": []
    },
    "kernelspec": {
      "name": "python3",
      "display_name": "Python 3"
    },
    "language_info": {
      "name": "python"
    }
  },
  "cells": [
    {
      "cell_type": "code",
      "execution_count": 38,
      "metadata": {
        "id": "vVgoYWgMRIA-"
      },
      "outputs": [],
      "source": [
        "# Import required libraries\n",
        "import pandas as pd\n",
        "import numpy as np\n",
        "from sklearn.preprocessing import StandardScaler\n",
        "from sklearn.metrics.pairwise import cosine_similarity\n",
        "from google.colab import files\n",
        "from google.colab import drive\n",
        "from sklearn.inspection import permutation_importance\n",
        "from sklearn.ensemble import RandomForestRegressor\n",
        "from sklearn.cluster import KMeans\n",
        "from sklearn.metrics import silhouette_score\n",
        "import matplotlib.pyplot as plt"
      ]
    },
    {
      "cell_type": "code",
      "source": [
        "# Mount Google Drive to save outputs\n",
        "from google.colab import drive\n",
        "drive.mount('/content/drive')"
      ],
      "metadata": {
        "colab": {
          "base_uri": "https://localhost:8080/"
        },
        "id": "Lfp_8U53RQVA",
        "outputId": "739d59b7-232e-44e7-f9b5-4a1e0ff322a9"
      },
      "execution_count": null,
      "outputs": [
        {
          "output_type": "stream",
          "name": "stdout",
          "text": [
            "Drive already mounted at /content/drive; to attempt to forcibly remount, call drive.mount(\"/content/drive\", force_remount=True).\n",
            "Drive already mounted at /content/drive; to attempt to forcibly remount, call drive.mount(\"/content/drive\", force_remount=True).\n"
          ]
        }
      ]
    },
    {
      "cell_type": "code",
      "source": [
        "# Load datasets (adjust file names as needed)\n",
        "customers = pd.read_csv('/content/drive/MyDrive/Customers.csv')  # Replace with your actual filename\n",
        "transactions = pd.read_csv('/content/drive/MyDrive/Transactions.csv')  # Replace with your actual filename\n",
        "products = pd.read_csv('/content/drive/MyDrive/Products.csv')  # Replace with your actual filename"
      ],
      "metadata": {
        "id": "MNreb8zBR_7x"
      },
      "execution_count": null,
      "outputs": []
    },
    {
      "cell_type": "code",
      "source": [
        "# Feature Engineering for Lookalike Model\n",
        "def create_customer_features(customers, transactions, products):\n",
        "    # Customer transaction features\n",
        "    customer_stats = transactions.groupby('CustomerID').agg({\n",
        "        'TotalValue': ['sum', 'mean', 'std'],\n",
        "        'Quantity': ['sum', 'mean', 'std'],\n",
        "        'TransactionID': 'count'\n",
        "    }).fillna(0)\n",
        "\n",
        "    # Flatten column names\n",
        "    customer_stats.columns = ['_'.join(col).strip() for col in customer_stats.columns.values]\n",
        "\n",
        "    # Category preferences\n",
        "    transaction_products = transactions.merge(products, on='ProductID')\n",
        "    category_pivot = pd.pivot_table(\n",
        "        transaction_products,\n",
        "        values='TotalValue',\n",
        "        index='CustomerID',\n",
        "        columns='Category',\n",
        "        aggfunc='sum',\n",
        "        fill_value=0\n",
        "    )\n",
        "\n",
        "    # Normalize category preferences\n",
        "    category_pivot = category_pivot.div(category_pivot.sum(axis=1), axis=0)\n",
        "\n",
        "    # Combine features\n",
        "    customer_features = customer_stats.join(category_pivot)\n",
        "\n",
        "    # Add customer region (one-hot encoded)\n",
        "    region_dummies = pd.get_dummies(customers.set_index('CustomerID')['Region'], prefix='region')\n",
        "    customer_features = customer_features.join(region_dummies)\n",
        "\n",
        "    return customer_features"
      ],
      "metadata": {
        "id": "9hKcBW1OSBRb"
      },
      "execution_count": 40,
      "outputs": []
    },
    {
      "cell_type": "code",
      "source": [
        "# Feature Importance Analysis using Random Forest\n",
        "def feature_importance_analysis(customer_features, target_column='TotalValue_sum'):\n",
        "    # Let's use a regression model to predict TotalValue_sum as an example\n",
        "    X = customer_features.drop(target_column, axis=1)\n",
        "    y = customer_features[target_column]\n",
        "\n",
        "    model = RandomForestRegressor(n_estimators=100, random_state=42)\n",
        "    model.fit(X, y)\n",
        "\n",
        "    # Get feature importance and visualize it\n",
        "    feature_importance = model.feature_importances_\n",
        "    importance_df = pd.DataFrame({\n",
        "        'Feature': X.columns,\n",
        "        'Importance': feature_importance\n",
        "    }).sort_values(by='Importance', ascending=False)\n",
        "\n",
        "    # Plot feature importance\n",
        "    plt.figure(figsize=(10, 6))\n",
        "    plt.barh(importance_df['Feature'], importance_df['Importance'])\n",
        "    plt.xlabel('Importance')\n",
        "    plt.title('Feature Importance')\n",
        "    plt.show()\n",
        "\n",
        "    return importance_df\n",
        "\n",
        "# Additional Validation Metrics using Silhouette Score\n",
        "def clustering_validation(customer_features, n_clusters=5):\n",
        "    # Apply KMeans clustering\n",
        "    kmeans = KMeans(n_clusters=n_clusters, random_state=42)\n",
        "    cluster_labels = kmeans.fit_predict(customer_features)\n",
        "\n",
        "    # Calculate silhouette score\n",
        "    silhouette_avg = silhouette_score(customer_features, cluster_labels)\n",
        "    print(f\"Silhouette Score for {n_clusters} clusters: {silhouette_avg}\")\n",
        "\n",
        "    return silhouette_avg"
      ],
      "metadata": {
        "id": "MYUlwMK7phTm"
      },
      "execution_count": 39,
      "outputs": []
    },
    {
      "cell_type": "code",
      "source": [
        "def find_lookalikes(customer_features, customer_id, n_recommendations=3):\n",
        "    # Get similarity scores\n",
        "    customer_vector = customer_features.loc[customer_id].values.reshape(1, -1)\n",
        "    similarity_scores = cosine_similarity(customer_vector, customer_features)\n",
        "\n",
        "    # Get top similar customers (excluding self)\n",
        "    similar_indices = similarity_scores[0].argsort()[::-1][1:n_recommendations+1]\n",
        "    similar_scores = similarity_scores[0][similar_indices]\n",
        "\n",
        "    # Get customer IDs and scores\n",
        "    similar_customers = customer_features.index[similar_indices]\n",
        "\n",
        "    return list(zip(similar_customers, similar_scores))"
      ],
      "metadata": {
        "id": "3xRpwzSeSHfs"
      },
      "execution_count": 41,
      "outputs": []
    },
    {
      "cell_type": "code",
      "source": [
        "# Create feature matrix\n",
        "customer_features = create_customer_features(customers, transactions, products)\n"
      ],
      "metadata": {
        "id": "G9T8UmcjSVwF"
      },
      "execution_count": 42,
      "outputs": []
    },
    {
      "cell_type": "code",
      "source": [
        "# Scale features\n",
        "scaler = StandardScaler()\n",
        "scaled_features = pd.DataFrame(\n",
        "    scaler.fit_transform(customer_features),\n",
        "    index=customer_features.index,\n",
        "    columns=customer_features.columns\n",
        ")\n"
      ],
      "metadata": {
        "id": "k4_CRoNmSn4_"
      },
      "execution_count": 43,
      "outputs": []
    },
    {
      "cell_type": "code",
      "source": [
        "# Generate lookalikes for the first 20 customers\n",
        "results = {}\n",
        "for cust_id in customers['CustomerID'][:20]:\n",
        "    lookalikes = find_lookalikes(scaled_features, cust_id)\n",
        "    results[cust_id] = lookalikes\n"
      ],
      "metadata": {
        "id": "IASdNy0uSqdU"
      },
      "execution_count": 44,
      "outputs": []
    },
    {
      "cell_type": "code",
      "source": [
        "# Create output DataFrame\n",
        "output_rows = []\n",
        "for cust_id, recommendations in results.items():\n",
        "    row = {\n",
        "        'customer_id': cust_id,\n",
        "        'lookalike_1': recommendations[0][0],\n",
        "        'score_1': recommendations[0][1],\n",
        "        'lookalike_2': recommendations[1][0],\n",
        "        'score_2': recommendations[1][1],\n",
        "        'lookalike_3': recommendations[2][0],\n",
        "        'score_3': recommendations[2][1]\n",
        "    }\n",
        "    output_rows.append(row)\n",
        "\n",
        "lookalike_df = pd.DataFrame(output_rows)\n"
      ],
      "metadata": {
        "id": "66NEOOVYSxPm"
      },
      "execution_count": 45,
      "outputs": []
    },
    {
      "cell_type": "code",
      "source": [
        "# Save results to CSV in Google Drive\n",
        "output_path = '/content/drive/MyDrive/Lookalike.csv'\n",
        "lookalike_df.to_csv(output_path, index=False)\n",
        "\n",
        "print(f\"Lookalike recommendations saved to: {output_path}\")"
      ],
      "metadata": {
        "colab": {
          "base_uri": "https://localhost:8080/"
        },
        "id": "J_fzkLJSS0aI",
        "outputId": "99187833-f5f3-47e8-a8eb-33e8b026887b"
      },
      "execution_count": 47,
      "outputs": [
        {
          "output_type": "stream",
          "name": "stdout",
          "text": [
            "Lookalike recommendations saved to: /content/drive/MyDrive/Lookalike.csv\n"
          ]
        }
      ]
    },
    {
      "cell_type": "code",
      "source": [
        "# Feature Importance Analysis\n",
        "importance_df = feature_importance_analysis(customer_features)\n",
        "print(\"Feature Importance Analysis:\")\n",
        "print(importance_df)\n",
        "\n",
        "# Clustering Validation using Silhouette Score\n",
        "clustering_validation(scaled_features, n_clusters=5)"
      ],
      "metadata": {
        "colab": {
          "base_uri": "https://localhost:8080/",
          "height": 876
        },
        "id": "UTLi-gbJpvSF",
        "outputId": "5b337cbc-ceb7-42f3-b71d-e0987b849ff2"
      },
      "execution_count": 48,
      "outputs": [
        {
          "output_type": "display_data",
          "data": {
            "text/plain": [
              "<Figure size 1000x600 with 1 Axes>"
            ],
            "image/png": "[encoded data removed]"
          },
          "metadata": {}
        },
        {
          "output_type": "stream",
          "name": "stdout",
          "text": [
            "Feature Importance Analysis:\n",
            "                 Feature  Importance\n",
            "2           Quantity_sum    0.770095\n",
            "0        TotalValue_mean    0.129430\n",
            "5    TransactionID_count    0.027882\n",
            "1         TotalValue_std    0.024137\n",
            "4           Quantity_std    0.011214\n",
            "7               Clothing    0.007861\n",
            "9             Home Decor    0.006930\n",
            "8            Electronics    0.006311\n",
            "3          Quantity_mean    0.005944\n",
            "6                  Books    0.005446\n",
            "11         region_Europe    0.002016\n",
            "12  region_North America    0.001329\n",
            "13  region_South America    0.000842\n",
            "10           region_Asia    0.000563\n",
            "Silhouette Score for 5 clusters: 0.11066380507199992\n"
          ]
        },
        {
          "output_type": "execute_result",
          "data": {
            "text/plain": [
              "0.11066380507199992"
            ]
          },
          "metadata": {},
          "execution_count": 48
        }
      ]
    }
  ]
}